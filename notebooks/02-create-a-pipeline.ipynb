{
 "cells": [
  {
   "cell_type": "markdown",
   "metadata": {},
   "source": [
    "# Create a Pipeline"
   ]
  },
  {
   "cell_type": "code",
   "execution_count": null,
   "metadata": {},
   "outputs": [],
   "source": [
    "import os\n",
    "import boto3\n",
    "from botocore.client import Config\n",
    "\n",
    "import kfp\n",
    "from kfp import dsl\n",
    "from kfp.dsl.types import Float, Integer, String"
   ]
  },
  {
   "cell_type": "markdown",
   "metadata": {},
   "source": [
    "## Upload the 'getting-started' notebook to a bucket"
   ]
  },
  {
   "cell_type": "code",
   "execution_count": null,
   "metadata": {},
   "outputs": [],
   "source": [
    "s3 = boto3.client(\n",
    "    \"s3\",\n",
    "    endpoint_url=\"http://minio-service.kubeflow:9000\",\n",
    "    aws_access_key_id=\"minio\",\n",
    "    aws_secret_access_key=\"minio123\",\n",
    "    config=Config(signature_version=\"s3v4\"),\n",
    "    region_name=\"us-east-1\"\n",
    ")\n",
    "\n",
    "filename = \"01-getting-started.ipynb\"\n",
    "with open(filename, \"rb\") as fp:\n",
    "    s3.upload_fileobj(fp, \"mlpipeline\", filename)"
   ]
  },
  {
   "cell_type": "markdown",
   "metadata": {},
   "source": [
    "## Create a pipeline that runs our notebook"
   ]
  },
  {
   "cell_type": "code",
   "execution_count": null,
   "metadata": {},
   "outputs": [],
   "source": [
    "@dsl.pipeline(\n",
    "    name=\"train_pipeline\",\n",
    "    description=\"\"\"A pipeline that runs jupyter notebooks using Papermill.\"\"\",\n",
    ")\n",
    "def train(\n",
    "    epochs: Integer = 10,\n",
    "    dropout: Float = 0.0,\n",
    "    weight_decay: Float  = 0.0,\n",
    "    n_chunks: Float = 700,\n",
    "    learning_rate: Float = 0.03,\n",
    "    optimizer: String = \"SGD\"\n",
    "):\n",
    "    notebook_path = \"s3://mlpipeline/01-getting-started.ipynb\"\n",
    "    output_path = \"-\"\n",
    "    dsl.ContainerOp(\n",
    "        name=\"Train\",\n",
    "        image=\"gcr.io/kubeflow-aifest-2019/jupyter\",\n",
    "        container_kwargs={\n",
    "            \"image_pull_policy\": \"IfNotPresent\",\n",
    "            \"resources\": {\n",
    "                \"limits\": {\n",
    "                    \"cpu\": \"1.0\",\n",
    "                    \"memory\": \"5Gi\"\n",
    "                },\n",
    "                \"requests\": {\n",
    "                    \"cpu\": \"0.1\",\n",
    "                    \"memory\": \"1Gi\"\n",
    "                }\n",
    "            }\n",
    "        },\n",
    "        command=[\n",
    "            \"papermill\", notebook_path, output_path,\n",
    "            \"--report-mode\",\n",
    "            \"-p\", \"epochs\", epochs,\n",
    "            \"-p\", \"dropout\", dropout,\n",
    "            \"-p\", \"weight_decay\", weight_decay,\n",
    "            \"-p\", \"n_chunks\", n_chunks,\n",
    "            \"-p\", \"learning_rate\", learning_rate,\n",
    "            \"-p\", \"optimizer\", optimizer,\n",
    "        ],\n",
    "        file_outputs={\n",
    "            \"mlpipeline-ui-metadata\": \"/mlpipeline-ui-metadata.json\",\n",
    "            \"mlpipeline-metrics\": \"/mlpipeline-metrics.json\"\n",
    "        }\n",
    "    )"
   ]
  },
  {
   "cell_type": "code",
   "execution_count": null,
   "metadata": {},
   "outputs": [],
   "source": [
    "kfp.compiler.Compiler().compile(train, \"training.zip\")"
   ]
  },
  {
   "cell_type": "code",
   "execution_count": null,
   "metadata": {},
   "outputs": [],
   "source": [
    "from IPython.core.display import display, HTML\n",
    "\n",
    "display(HTML('<a href=\"/notebook/anonymous/my-notebook-server/files/kubeflow-aiops-workshop/notebooks/training.zip?download=1\">Download</a>'))"
   ]
  },
  {
   "cell_type": "code",
   "execution_count": null,
   "metadata": {},
   "outputs": [],
   "source": []
  }
 ],
 "metadata": {
  "kernelspec": {
   "display_name": "Python 3",
   "language": "python",
   "name": "python3"
  },
  "language_info": {
   "codemirror_mode": {
    "name": "ipython",
    "version": 3
   },
   "file_extension": ".py",
   "mimetype": "text/x-python",
   "name": "python",
   "nbconvert_exporter": "python",
   "pygments_lexer": "ipython3",
   "version": "3.7.3"
  }
 },
 "nbformat": 4,
 "nbformat_minor": 2
}
